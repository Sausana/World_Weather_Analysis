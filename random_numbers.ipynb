{
 "cells": [
  {
   "cell_type": "code",
   "execution_count": 1,
   "id": "6bbb40a7",
   "metadata": {},
   "outputs": [],
   "source": [
    "import random"
   ]
  },
  {
   "cell_type": "code",
   "execution_count": 2,
   "id": "755ad6eb",
   "metadata": {},
   "outputs": [
    {
     "data": {
      "text/plain": [
       "-17"
      ]
     },
     "execution_count": 2,
     "metadata": {},
     "output_type": "execute_result"
    }
   ],
   "source": [
    "random.randint(-90,90)"
   ]
  },
  {
   "cell_type": "code",
   "execution_count": 3,
   "id": "c0edd239",
   "metadata": {},
   "outputs": [
    {
     "data": {
      "text/plain": [
       "0.9993865928034793"
      ]
     },
     "execution_count": 3,
     "metadata": {},
     "output_type": "execute_result"
    }
   ],
   "source": [
    "random.random()"
   ]
  },
  {
   "cell_type": "code",
   "execution_count": 4,
   "id": "05af7948",
   "metadata": {},
   "outputs": [
    {
     "data": {
      "text/plain": [
       "-26.280455395655125"
      ]
     },
     "execution_count": 4,
     "metadata": {},
     "output_type": "execute_result"
    }
   ],
   "source": [
    "random_number=random.randint(-90,89)+random.random()\n",
    "random_number"
   ]
  },
  {
   "cell_type": "code",
   "execution_count": 5,
   "id": "05ad3bc0",
   "metadata": {},
   "outputs": [
    {
     "data": {
      "text/plain": [
       "[-12.469779584417436,\n",
       " -23.527687547787963,\n",
       " -29.12875496269233,\n",
       " 68.88697844024266,\n",
       " 26.99771932311662,\n",
       " 75.75609307799736,\n",
       " -41.04025958635036,\n",
       " -87.80925285966876,\n",
       " -36.537785928106366,\n",
       " -32.39275098603042]"
      ]
     },
     "execution_count": 5,
     "metadata": {},
     "output_type": "execute_result"
    }
   ],
   "source": [
    "x = 1\n",
    "latitudes = []\n",
    "while x < 11:\n",
    "    random_lat = random.randint(-90, 89) + random.random()\n",
    "    latitudes.append(random_lat)\n",
    "    x += 1\n",
    "latitudes   "
   ]
  },
  {
   "cell_type": "code",
   "execution_count": 6,
   "id": "110b13ea",
   "metadata": {},
   "outputs": [
    {
     "data": {
      "text/plain": [
       "41"
      ]
     },
     "execution_count": 6,
     "metadata": {},
     "output_type": "execute_result"
    }
   ],
   "source": [
    "random.randrange(-90, 90, step=1)"
   ]
  },
  {
   "cell_type": "code",
   "execution_count": 7,
   "id": "36200ecb",
   "metadata": {},
   "outputs": [
    {
     "data": {
      "text/plain": [
       "-6"
      ]
     },
     "execution_count": 7,
     "metadata": {},
     "output_type": "execute_result"
    }
   ],
   "source": [
    "random.randrange(-90, 90, step=3)"
   ]
  },
  {
   "cell_type": "code",
   "execution_count": 8,
   "id": "11cd8529",
   "metadata": {},
   "outputs": [
    {
     "data": {
      "text/plain": [
       "54.08338202910235"
      ]
     },
     "execution_count": 8,
     "metadata": {},
     "output_type": "execute_result"
    }
   ],
   "source": [
    "random.uniform(-90, 90)"
   ]
  },
  {
   "cell_type": "code",
   "execution_count": 9,
   "id": "fdcd0c1a",
   "metadata": {},
   "outputs": [],
   "source": [
    "import numpy as np"
   ]
  },
  {
   "cell_type": "code",
   "execution_count": 10,
   "id": "389f9543",
   "metadata": {},
   "outputs": [
    {
     "data": {
      "text/plain": [
       "-42.005402245109984"
      ]
     },
     "execution_count": 10,
     "metadata": {},
     "output_type": "execute_result"
    }
   ],
   "source": [
    "np.random.uniform(-90.000, 90.000)"
   ]
  },
  {
   "cell_type": "code",
   "execution_count": 11,
   "id": "9c82dcd9",
   "metadata": {},
   "outputs": [
    {
     "data": {
      "text/plain": [
       "-19.925303773598486"
      ]
     },
     "execution_count": 11,
     "metadata": {},
     "output_type": "execute_result"
    }
   ],
   "source": [
    "np.random.uniform(low=-90, high=90)"
   ]
  },
  {
   "cell_type": "code",
   "execution_count": 12,
   "id": "cc7d33ab",
   "metadata": {},
   "outputs": [
    {
     "data": {
      "text/plain": [
       "array([-10.02261412,   8.30905815, -82.69820631,  60.18139872,\n",
       "        14.39756815, -37.46696328, -81.59218418,   2.54599782,\n",
       "         6.10317881,  22.09897274,  -7.75725746,  22.32837894,\n",
       "        21.18956607, -18.31180589,  -3.07805179, -37.69903859,\n",
       "        -3.28529418,  42.21230827,  52.47736922, -82.62205333,\n",
       "       -78.32170148, -85.96700873, -29.7010529 , -42.51549533,\n",
       "        -9.95241817, -61.09126968,   7.87757031, -21.77127459,\n",
       "       -14.03359221,  -1.38636627,  40.29412337,   6.73567414,\n",
       "       -37.71487104, -77.4551678 , -72.08899195,   4.28743764,\n",
       "        39.33658825, -42.78147655,  78.78450486,  89.26981709,\n",
       "        65.65589526,  18.99574873, -34.28468016,  60.60660228,\n",
       "        -9.50903363, -62.27895059,  13.3419482 ,  14.57235634,\n",
       "        21.92230173,  52.62402965])"
      ]
     },
     "execution_count": 12,
     "metadata": {},
     "output_type": "execute_result"
    }
   ],
   "source": [
    "np.random.uniform(-90.000, 90.000, size=50)"
   ]
  },
  {
   "cell_type": "code",
   "execution_count": 13,
   "id": "676c849c",
   "metadata": {},
   "outputs": [],
   "source": [
    "import timeit"
   ]
  },
  {
   "cell_type": "code",
   "execution_count": 14,
   "id": "9c5e0030",
   "metadata": {},
   "outputs": [
    {
     "name": "stdout",
     "output_type": "stream",
     "text": [
      "3.48 µs ± 106 ns per loop (mean ± std. dev. of 7 runs, 100000 loops each)\n"
     ]
    }
   ],
   "source": [
    "%timeit np.random.uniform(-90.000, 90.000, size=50)"
   ]
  },
  {
   "cell_type": "code",
   "execution_count": 15,
   "id": "1112a821",
   "metadata": {},
   "outputs": [
    {
     "name": "stdout",
     "output_type": "stream",
     "text": [
      "1.8 ms ± 144 µs per loop (mean ± std. dev. of 7 runs, 1000 loops each)\n"
     ]
    }
   ],
   "source": [
    "def latitudes(size):\n",
    "    latitudes = []\n",
    "    x = 0\n",
    "    while x < (size):\n",
    "        random_lat = random.randint(-90, 90) + random.random()\n",
    "        latitudes.append(random_lat)\n",
    "        x += 1\n",
    "    return latitudes\n",
    "# Call the function with 1500.\n",
    "%timeit latitudes(1500)"
   ]
  },
  {
   "cell_type": "code",
   "execution_count": null,
   "id": "73248a08",
   "metadata": {},
   "outputs": [],
   "source": []
  }
 ],
 "metadata": {
  "kernelspec": {
   "display_name": "Python 3 (ipykernel)",
   "language": "python",
   "name": "python3"
  },
  "language_info": {
   "codemirror_mode": {
    "name": "ipython",
    "version": 3
   },
   "file_extension": ".py",
   "mimetype": "text/x-python",
   "name": "python",
   "nbconvert_exporter": "python",
   "pygments_lexer": "ipython3",
   "version": "3.9.13"
  }
 },
 "nbformat": 4,
 "nbformat_minor": 5
}
